{
 "cells": [
  {
   "metadata": {
    "ExecuteTime": {
     "end_time": "2025-08-17T16:03:53.075946Z",
     "start_time": "2025-08-17T16:03:53.069003Z"
    }
   },
   "cell_type": "code",
   "source": [
    "from math import exp\n",
    "\n",
    "def future_discrete_value(x,r,n):\n",
    "    return x*(1+r)**n\n",
    "\n",
    "def present_discrete_value(x,r,n):\n",
    "    return x*(1+r)**-n\n",
    "\n",
    "def future_continuous_value(x,r,t):\n",
    "    return x*exp(r*t)\n",
    "\n",
    "def present_continuous_value(x,r,t):\n",
    "    return x*exp(-r*t)\n",
    "\n",
    "if __name__=='__main__':\n",
    "\n",
    "    # value of investment in dollars\n",
    "    x = 100\n",
    "    #define the interest rate (r)\n",
    "    r = 0.05\n",
    "    #duration (years)\n",
    "    n = 5\n",
    "\n",
    "    print(\"Future value(discrete model) of x: %s\" % future_discrete_value(x,r,n))\n",
    "    print(\"Present value(discrete model) of x: %s\" % present_discrete_value(x,r,n))\n",
    "    print(\"Future value continuous model of x: %s\" % future_continuous_value(x,r,n))\n",
    "    print(\"Future value continuous model of x: %s\" % present_continuous_value(x,r,n))"
   ],
   "id": "7f35d71a633c35ad",
   "outputs": [
    {
     "name": "stdout",
     "output_type": "stream",
     "text": [
      "Future value(discrete model) of x: 127.62815625000003\n",
      "Present value(discrete model) of x: 78.35261664684589\n",
      "Future value continuous model of x: 128.40254166877415\n",
      "Future value continuous model of x: 77.8800783071405\n"
     ]
    }
   ],
   "execution_count": 3
  }
 ],
 "metadata": {
  "kernelspec": {
   "display_name": "Python 3",
   "language": "python",
   "name": "python3"
  },
  "language_info": {
   "codemirror_mode": {
    "name": "ipython",
    "version": 2
   },
   "file_extension": ".py",
   "mimetype": "text/x-python",
   "name": "python",
   "nbconvert_exporter": "python",
   "pygments_lexer": "ipython2",
   "version": "2.7.6"
  }
 },
 "nbformat": 4,
 "nbformat_minor": 5
}
