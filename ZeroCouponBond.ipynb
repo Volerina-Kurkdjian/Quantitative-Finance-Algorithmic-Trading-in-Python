{
 "cells": [
  {
   "metadata": {},
   "cell_type": "code",
   "outputs": [],
   "execution_count": null,
   "source": [
    "\n",
    "class ZeroCouponBonds:\n",
    "\n",
    "    def __init__(self, principal, maturity, interest_rate):\n",
    "        self.principal = principal\n",
    "        self.maturity = maturity\n",
    "        self.interest_rate = interest_rate / 100\n",
    "\n",
    "    def present_value(self, x, n):\n",
    "        return x / (1+self.interest_rate)**n\n",
    "\n",
    "    def calculate_price(self):\n",
    "        return self.present_value(self.principal, self.maturity)\n",
    "\n",
    "if __name__ == '__main__':\n",
    "\n",
    "    bond=ZeroCouponBonds(1000,2,4)\n",
    "    print(bond.calculate_price())"
   ],
   "id": "bf3b2d8f36bbfcca"
  }
 ],
 "metadata": {},
 "nbformat": 4,
 "nbformat_minor": 5
}
